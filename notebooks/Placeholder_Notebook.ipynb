{
 "metadata": {
  "name": "",
  "signature": "sha256:349cc3def51092f1e6b5580936bb6979ca462e40622d3c1e5709c3bcfdb44884"
 },
 "nbformat": 3,
 "nbformat_minor": 0,
 "worksheets": [
  {
   "cells": [
    {
     "cell_type": "markdown",
     "metadata": {},
     "source": [
      "# Placeholder Notebook Title\n",
      "Some introduction text"
     ]
    },
    {
     "cell_type": "code",
     "collapsed": false,
     "input": [
      "# import stuffs\n",
      "import matplotlib.pyplot as plt\n",
      "import numpy as np\n",
      "\n",
      "%matplotlib inline"
     ],
     "language": "python",
     "metadata": {},
     "outputs": [],
     "prompt_number": 3
    },
    {
     "cell_type": "markdown",
     "metadata": {},
     "source": [
      "## Section"
     ]
    },
    {
     "cell_type": "code",
     "collapsed": false,
     "input": [
      "# do stuffs\n",
      "x = np.linspace(0, 100)\n",
      "y = 1 - x**2\n",
      "y"
     ],
     "language": "python",
     "metadata": {},
     "outputs": [
      {
       "metadata": {},
       "output_type": "pyout",
       "prompt_number": 4,
       "text": [
        "array([  1.00000000e+00,  -3.16493128e+00,  -1.56597251e+01,\n",
        "        -3.64843815e+01,  -6.56389005e+01,  -1.03123282e+02,\n",
        "        -1.48937526e+02,  -2.03081633e+02,  -2.65555602e+02,\n",
        "        -3.36359434e+02,  -4.15493128e+02,  -5.02956685e+02,\n",
        "        -5.98750104e+02,  -7.02873386e+02,  -8.15326531e+02,\n",
        "        -9.36109538e+02,  -1.06522241e+03,  -1.20266514e+03,\n",
        "        -1.34843773e+03,  -1.50254019e+03,  -1.66497251e+03,\n",
        "        -1.83573469e+03,  -2.01482674e+03,  -2.20224865e+03,\n",
        "        -2.39800042e+03,  -2.60208205e+03,  -2.81449354e+03,\n",
        "        -3.03523490e+03,  -3.26430612e+03,  -3.50170721e+03,\n",
        "        -3.74743815e+03,  -4.00149896e+03,  -4.26388963e+03,\n",
        "        -4.53461016e+03,  -4.81366056e+03,  -5.10104082e+03,\n",
        "        -5.39675094e+03,  -5.70079092e+03,  -6.01316077e+03,\n",
        "        -6.33386047e+03,  -6.66289005e+03,  -7.00024948e+03,\n",
        "        -7.34593878e+03,  -7.69995793e+03,  -8.06230696e+03,\n",
        "        -8.43298584e+03,  -8.81199459e+03,  -9.19933319e+03,\n",
        "        -9.59500167e+03,  -9.99900000e+03])"
       ]
      }
     ],
     "prompt_number": 4
    },
    {
     "cell_type": "markdown",
     "metadata": {},
     "source": [
      "## Section 2"
     ]
    },
    {
     "cell_type": "code",
     "collapsed": false,
     "input": [
      "# do more stuffs\n",
      "plt.plot(x, y)"
     ],
     "language": "python",
     "metadata": {},
     "outputs": [
      {
       "metadata": {},
       "output_type": "pyout",
       "prompt_number": 5,
       "text": [
        "[<matplotlib.lines.Line2D at 0x9b56550>]"
       ]
      },
      {
       "metadata": {},
       "output_type": "display_data",
       "png": "[encoded data removed]",
       "text": [
        "<matplotlib.figure.Figure at 0x9a869b0>"
       ]
      }
     ],
     "prompt_number": 5
    }
   ],
   "metadata": {}
  }
 ]
}