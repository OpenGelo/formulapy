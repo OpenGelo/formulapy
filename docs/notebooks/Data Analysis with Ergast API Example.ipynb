{
 "cells": [
  {
   "cell_type": "code",
   "execution_count": 1,
   "metadata": {
    "collapsed": true
   },
   "outputs": [],
   "source": [
    "import os.path\n",
    "import sys\n",
    "sys.path.extend([os.path.dirname(os.path.dirname(os.path.abspath(os.path.curdir)))])"
   ]
  },
  {
   "cell_type": "code",
   "execution_count": 2,
   "metadata": {
    "collapsed": false
   },
   "outputs": [],
   "source": [
    "from formulapy.data.ergast import Formula1\n",
    "f1 = Formula1"
   ]
  },
  {
   "cell_type": "code",
   "execution_count": 3,
   "metadata": {
    "collapsed": false
   },
   "outputs": [
    {
     "data": {
      "text/html": [
       "<div style=\"max-height:1000px;max-width:1500px;overflow:auto;\">\n",
       "<table border=\"1\" class=\"dataframe\">\n",
       "  <thead>\n",
       "    <tr style=\"text-align: right;\">\n",
       "      <th></th>\n",
       "      <th>circuitId</th>\n",
       "      <th>circuitName</th>\n",
       "      <th>city</th>\n",
       "      <th>country</th>\n",
       "      <th>date</th>\n",
       "      <th>lat</th>\n",
       "      <th>long</th>\n",
       "      <th>name</th>\n",
       "      <th>round</th>\n",
       "      <th>season</th>\n",
       "      <th>time</th>\n",
       "    </tr>\n",
       "  </thead>\n",
       "  <tbody>\n",
       "    <tr>\n",
       "      <th>0</th>\n",
       "      <td> albert_park</td>\n",
       "      <td> Albert Park Grand Prix Circuit</td>\n",
       "      <td>    Melbourne</td>\n",
       "      <td> Australia</td>\n",
       "      <td>2015-03-15 05:00:00</td>\n",
       "      <td>-37.84970</td>\n",
       "      <td> 144.96800</td>\n",
       "      <td> Australian Grand Prix</td>\n",
       "      <td> 1</td>\n",
       "      <td> 2015</td>\n",
       "      <td> 05:00:00</td>\n",
       "    </tr>\n",
       "    <tr>\n",
       "      <th>1</th>\n",
       "      <td>      sepang</td>\n",
       "      <td>   Sepang International Circuit</td>\n",
       "      <td> Kuala Lumpur</td>\n",
       "      <td>  Malaysia</td>\n",
       "      <td>2015-03-29 07:00:00</td>\n",
       "      <td>  2.76083</td>\n",
       "      <td> 101.73800</td>\n",
       "      <td>  Malaysian Grand Prix</td>\n",
       "      <td> 2</td>\n",
       "      <td> 2015</td>\n",
       "      <td> 07:00:00</td>\n",
       "    </tr>\n",
       "    <tr>\n",
       "      <th>2</th>\n",
       "      <td>    shanghai</td>\n",
       "      <td> Shanghai International Circuit</td>\n",
       "      <td>     Shanghai</td>\n",
       "      <td>     China</td>\n",
       "      <td>2015-04-12 06:00:00</td>\n",
       "      <td> 31.33890</td>\n",
       "      <td> 121.22000</td>\n",
       "      <td>    Chinese Grand Prix</td>\n",
       "      <td> 3</td>\n",
       "      <td> 2015</td>\n",
       "      <td> 06:00:00</td>\n",
       "    </tr>\n",
       "    <tr>\n",
       "      <th>3</th>\n",
       "      <td>     bahrain</td>\n",
       "      <td>  Bahrain International Circuit</td>\n",
       "      <td>       Sakhir</td>\n",
       "      <td>   Bahrain</td>\n",
       "      <td>2015-04-19 15:00:00</td>\n",
       "      <td> 26.03250</td>\n",
       "      <td>  50.51060</td>\n",
       "      <td>    Bahrain Grand Prix</td>\n",
       "      <td> 4</td>\n",
       "      <td> 2015</td>\n",
       "      <td> 15:00:00</td>\n",
       "    </tr>\n",
       "    <tr>\n",
       "      <th>4</th>\n",
       "      <td>   catalunya</td>\n",
       "      <td>           Circuit de Catalunya</td>\n",
       "      <td>     Montmeló</td>\n",
       "      <td>     Spain</td>\n",
       "      <td>2015-05-10 12:00:00</td>\n",
       "      <td> 41.57000</td>\n",
       "      <td>   2.26111</td>\n",
       "      <td>    Spanish Grand Prix</td>\n",
       "      <td> 5</td>\n",
       "      <td> 2015</td>\n",
       "      <td> 12:00:00</td>\n",
       "    </tr>\n",
       "  </tbody>\n",
       "</table>\n",
       "</div>"
      ],
      "text/plain": [
       "     circuitId                     circuitName          city    country  \\\n",
       "0  albert_park  Albert Park Grand Prix Circuit     Melbourne  Australia   \n",
       "1       sepang    Sepang International Circuit  Kuala Lumpur   Malaysia   \n",
       "2     shanghai  Shanghai International Circuit      Shanghai      China   \n",
       "3      bahrain   Bahrain International Circuit        Sakhir    Bahrain   \n",
       "4    catalunya            Circuit de Catalunya      MontmelÃ³      Spain   \n",
       "\n",
       "                 date       lat       long                   name  round  \\\n",
       "0 2015-03-15 05:00:00 -37.84970  144.96800  Australian Grand Prix      1   \n",
       "1 2015-03-29 07:00:00   2.76083  101.73800   Malaysian Grand Prix      2   \n",
       "2 2015-04-12 06:00:00  31.33890  121.22000     Chinese Grand Prix      3   \n",
       "3 2015-04-19 15:00:00  26.03250   50.51060     Bahrain Grand Prix      4   \n",
       "4 2015-05-10 12:00:00  41.57000    2.26111     Spanish Grand Prix      5   \n",
       "\n",
       "   season      time  \n",
       "0    2015  05:00:00  \n",
       "1    2015  07:00:00  \n",
       "2    2015  06:00:00  \n",
       "3    2015  15:00:00  \n",
       "4    2015  12:00:00  "
      ]
     },
     "execution_count": 3,
     "metadata": {},
     "output_type": "execute_result"
    }
   ],
   "source": [
    "f1.seasons.s2015.races.head()"
   ]
  },
  {
   "cell_type": "code",
   "execution_count": 4,
   "metadata": {
    "collapsed": false
   },
   "outputs": [
    {
     "data": {
      "text/plain": [
       "2015-4: Bahrain Grand Prix"
      ]
     },
     "execution_count": 4,
     "metadata": {},
     "output_type": "execute_result"
    }
   ],
   "source": [
    "f1.seasons.s2015.races.BahrainGrandPrix_4"
   ]
  },
  {
   "cell_type": "code",
   "execution_count": 5,
   "metadata": {
    "collapsed": false
   },
   "outputs": [
    {
     "data": {
      "text/plain": [
       "<matplotlib.axes._subplots.AxesSubplot at 0x18ec7438>"
      ]
     },
     "execution_count": 5,
     "metadata": {},
     "output_type": "execute_result"
    },
    {
     "data": {
      "image/png": "[encoded data removed]",
      "text/plain": [
       "<matplotlib.figure.Figure at 0x18eabe80>"
      ]
     },
     "metadata": {},
     "output_type": "display_data"
    }
   ],
   "source": [
    "f1.seasons.s2015.races.BahrainGrandPrix_4.laps.box_plot()"
   ]
  },
  {
   "cell_type": "code",
   "execution_count": 8,
   "metadata": {
    "collapsed": false
   },
   "outputs": [
    {
     "data": {
      "text/html": [
       "<div style=\"max-height:1000px;max-width:1500px;overflow:auto;\">\n",
       "<table border=\"1\" class=\"dataframe\">\n",
       "  <thead>\n",
       "    <tr style=\"text-align: right;\">\n",
       "      <th></th>\n",
       "      <th>driverId</th>\n",
       "      <th>lap_number</th>\n",
       "      <th>position</th>\n",
       "      <th>seconds</th>\n",
       "      <th>time</th>\n",
       "    </tr>\n",
       "  </thead>\n",
       "  <tbody>\n",
       "    <tr>\n",
       "      <th>0</th>\n",
       "      <td>  hamilton</td>\n",
       "      <td> 1</td>\n",
       "      <td> 1</td>\n",
       "      <td> 101.390</td>\n",
       "      <td>00:01:41.390000</td>\n",
       "    </tr>\n",
       "    <tr>\n",
       "      <th>1</th>\n",
       "      <td>    vettel</td>\n",
       "      <td> 1</td>\n",
       "      <td> 2</td>\n",
       "      <td> 102.217</td>\n",
       "      <td>00:01:42.217000</td>\n",
       "    </tr>\n",
       "    <tr>\n",
       "      <th>2</th>\n",
       "      <td> raikkonen</td>\n",
       "      <td> 1</td>\n",
       "      <td> 3</td>\n",
       "      <td> 102.896</td>\n",
       "      <td>00:01:42.896000</td>\n",
       "    </tr>\n",
       "    <tr>\n",
       "      <th>3</th>\n",
       "      <td>   rosberg</td>\n",
       "      <td> 1</td>\n",
       "      <td> 4</td>\n",
       "      <td> 103.381</td>\n",
       "      <td>00:01:43.381000</td>\n",
       "    </tr>\n",
       "    <tr>\n",
       "      <th>4</th>\n",
       "      <td>    bottas</td>\n",
       "      <td> 1</td>\n",
       "      <td> 5</td>\n",
       "      <td> 104.432</td>\n",
       "      <td>00:01:44.432000</td>\n",
       "    </tr>\n",
       "  </tbody>\n",
       "</table>\n",
       "</div>"
      ],
      "text/plain": [
       "    driverId  lap_number  position  seconds            time\n",
       "0   hamilton           1         1  101.390 00:01:41.390000\n",
       "1     vettel           1         2  102.217 00:01:42.217000\n",
       "2  raikkonen           1         3  102.896 00:01:42.896000\n",
       "3    rosberg           1         4  103.381 00:01:43.381000\n",
       "4     bottas           1         5  104.432 00:01:44.432000"
      ]
     },
     "execution_count": 8,
     "metadata": {},
     "output_type": "execute_result"
    }
   ],
   "source": [
    "df.head()"
   ]
  },
  {
   "cell_type": "code",
   "execution_count": 8,
   "metadata": {
    "collapsed": true
   },
   "outputs": [],
   "source": [
    "df = df.ix[df.seconds < 200, :]"
   ]
  },
  {
   "cell_type": "code",
   "execution_count": 9,
   "metadata": {
    "collapsed": true
   },
   "outputs": [],
   "source": [
    "import seaborn as sns\n",
    "%matplotlib inline\n",
    "sns.mpl.rcParams['figure.figsize'] = (16, 10)"
   ]
  },
  {
   "cell_type": "code",
   "execution_count": 10,
   "metadata": {
    "collapsed": true
   },
   "outputs": [],
   "source": [
    "laps = df.lap_number.unique()\n",
    "finish_order = df.sort(['lap_number', 'position']).groupby(['driverId'], as_index=False).last()\n",
    "finish_order = finish_order.sort(['lap_number', 'position'], ascending=[False, True])"
   ]
  },
  {
   "cell_type": "code",
   "execution_count": 11,
   "metadata": {
    "collapsed": false
   },
   "outputs": [
    {
     "data": {
      "text/plain": [
       "<matplotlib.axes._subplots.AxesSubplot at 0x168339e8>"
      ]
     },
     "execution_count": 11,
     "metadata": {},
     "output_type": "execute_result"
    },
    {
     "data": {
      "image/png": "[encoded data removed]",
      "text/plain": [
       "<matplotlib.figure.Figure at 0x16833710>"
      ]
     },
     "metadata": {},
     "output_type": "display_data"
    }
   ],
   "source": [
    "ids = reversed(finish_order.driverId.values)\n",
    "ids = [str(item) for item in ids]\n",
    "sns.boxplot(df.seconds, df.driverId, names=ids, order=ids, vert=False)"
   ]
  }
 ],
 "metadata": {
  "kernelspec": {
   "display_name": "Python 2",
   "language": "python",
   "name": "python2"
  },
  "language_info": {
   "codemirror_mode": {
    "name": "ipython",
    "version": 2
   },
   "file_extension": ".py",
   "mimetype": "text/x-python",
   "name": "python",
   "nbconvert_exporter": "python",
   "pygments_lexer": "ipython2",
   "version": "2.7.8"
  }
 },
 "nbformat": 4,
 "nbformat_minor": 0
}
